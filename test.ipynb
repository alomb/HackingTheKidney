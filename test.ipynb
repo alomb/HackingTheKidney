{
 "cells": [
  {
   "cell_type": "code",
   "execution_count": null,
   "metadata": {},
   "outputs": [],
   "source": [
    "%load_ext autoreload\n",
    "\n",
    "%autoreload 2"
   ]
  },
  {
   "cell_type": "code",
   "execution_count": null,
   "metadata": {
    "colab": {
     "base_uri": "https://localhost:8080/"
    },
    "executionInfo": {
     "elapsed": 644,
     "status": "ok",
     "timestamp": 1608484465691,
     "user": {
      "displayName": "Alessandro Lombardi",
      "photoUrl": "https://lh5.googleusercontent.com/-7ukkIYiMcZ8/AAAAAAAAAAI/AAAAAAAAClM/hraBNLlBvk8/s64/photo.jpg",
      "userId": "18306667323412978430"
     },
     "user_tz": -60
    },
    "id": "Z7WHp5ruS_lF",
    "outputId": "740c4264-b3a8-4b58-a6cd-bb6d9e61fe5e"
   },
   "outputs": [],
   "source": [
    "import os\n",
    "\n",
    "USE_DRIVE = False\n",
    "if USE_DRIVE:\n",
    "    from google.colab import drive\n",
    "\n",
    "    drive.mount('/content/gdrive')\n",
    "    ROOT_DRIVE = '/content/gdrive/MyDrive/'\n",
    "    DRIVE_FOLDER_PATH = os.path.join(ROOT_DRIVE, 'HuBMAP')\n",
    "    IMAGES_PATH = os.path.join(DRIVE_FOLDER_PATH, 'hubmap-256x256', 'train')\n",
    "    MASKS_PATH = os.path.join(DRIVE_FOLDER_PATH, 'hubmap-256x256', 'masks')\n",
    "else:\n",
    "    IMAGES_PATH = os.path.join('data', '256x256', 'train')\n",
    "    MASKS_PATH = os.path.join('data', '256x256', 'masks')"
   ]
  },
  {
   "cell_type": "code",
   "execution_count": null,
   "metadata": {
    "colab": {
     "base_uri": "https://localhost:8080/"
    },
    "executionInfo": {
     "elapsed": 894,
     "status": "ok",
     "timestamp": 1608484519901,
     "user": {
      "displayName": "Alessandro Lombardi",
      "photoUrl": "https://lh5.googleusercontent.com/-7ukkIYiMcZ8/AAAAAAAAAAI/AAAAAAAAClM/hraBNLlBvk8/s64/photo.jpg",
      "userId": "18306667323412978430"
     },
     "user_tz": -60
    },
    "id": "ZHjH0gwYxSRk",
    "outputId": "947c6914-835a-4bb3-e900-b9a5b9311edd"
   },
   "outputs": [],
   "source": [
    "!nvidia-smi"
   ]
  },
  {
   "cell_type": "markdown",
   "metadata": {
    "id": "Ecs2e-CoS8j1"
   },
   "source": [
    "# DeepLab HuBMAP"
   ]
  },
  {
   "cell_type": "code",
   "execution_count": null,
   "metadata": {
    "colab": {
     "base_uri": "https://localhost:8080/"
    },
    "executionInfo": {
     "elapsed": 975,
     "status": "ok",
     "timestamp": 1608484520715,
     "user": {
      "displayName": "Alessandro Lombardi",
      "photoUrl": "https://lh5.googleusercontent.com/-7ukkIYiMcZ8/AAAAAAAAAAI/AAAAAAAAClM/hraBNLlBvk8/s64/photo.jpg",
      "userId": "18306667323412978430"
     },
     "user_tz": -60
    },
    "id": "h9fijBxlS8j6",
    "outputId": "27610f3c-1668-42e2-c53b-8b59cbeb05d1"
   },
   "outputs": [],
   "source": [
    "from utils import get_device_colab, set_deterministic_colab\n",
    "\n",
    "NOT_COLAB = True\n",
    "if not NOT_COLAB:\n",
    "\n",
    "    DEVICE = get_device_colab()\n",
    "else:\n",
    "    DEVICE = 'cpu'\n",
    "\n",
    "SEED = 42\n",
    "set_deterministic_colab(SEED)"
   ]
  },
  {
   "cell_type": "code",
   "execution_count": null,
   "metadata": {
    "executionInfo": {
     "elapsed": 6918,
     "status": "ok",
     "timestamp": 1608484528703,
     "user": {
      "displayName": "Alessandro Lombardi",
      "photoUrl": "https://lh5.googleusercontent.com/-7ukkIYiMcZ8/AAAAAAAAAAI/AAAAAAAAClM/hraBNLlBvk8/s64/photo.jpg",
      "userId": "18306667323412978430"
     },
     "user_tz": -60
    },
    "id": "fTrefkQdxnWu"
   },
   "outputs": [],
   "source": [
    "from model.pretrained_models import get_deeplabv3_resnet\n",
    "\n",
    "model = get_deeplabv3_resnet(DEVICE, resnet_layers=101).to(DEVICE)"
   ]
  },
  {
   "cell_type": "code",
   "execution_count": null,
   "metadata": {
    "colab": {
     "base_uri": "https://localhost:8080/",
     "height": 423
    },
    "executionInfo": {
     "elapsed": 6688,
     "status": "error",
     "timestamp": 1608486204400,
     "user": {
      "displayName": "Alessandro Lombardi",
      "photoUrl": "https://lh5.googleusercontent.com/-7ukkIYiMcZ8/AAAAAAAAAAI/AAAAAAAAClM/hraBNLlBvk8/s64/photo.jpg",
      "userId": "18306667323412978430"
     },
     "user_tz": -60
    },
    "id": "7LBfcpJMyLnp",
    "outputId": "ed032e30-f8b0-4249-fe18-125ba7ec4387"
   },
   "outputs": [],
   "source": [
    "from preprocessing.dataset import get_training_validation_sets, HuBMAPDataset\n",
    "from training.loop import Trainer\n",
    "from training.loss_functions import BinaryDiceLoss\n",
    "\n",
    "import torch\n",
    "from torchvision import transforms\n",
    "\n",
    "training_dataset, training_images, validation_dataset, validation_images = get_training_validation_sets(IMAGES_PATH,\n",
    "                                                                                                        MASKS_PATH,\n",
    "                                                                                                        0.3, \n",
    "                                                                                                        {'train': transforms.Compose([transforms.ToTensor()]), 'val': None})\n",
    "\n",
    "criterion = BinaryDiceLoss().to(DEVICE)\n",
    "optimizer = torch.optim.Adam(model.parameters(), lr=1e-4)\n",
    "\n",
    "trainer = Trainer(model,\n",
    "                  0.3,\n",
    "                  criterion,\n",
    "                  optimizer,\n",
    "                  training_dataset,\n",
    "                  16,\n",
    "                  \"logs\",\n",
    "                  DEVICE)\n",
    "\n",
    "stats = trainer.train(1, verbose=True)"
   ]
  },
  {
   "cell_type": "code",
   "execution_count": null,
   "metadata": {
    "executionInfo": {
     "elapsed": 17434,
     "status": "aborted",
     "timestamp": 1608484482529,
     "user": {
      "displayName": "Alessandro Lombardi",
      "photoUrl": "https://lh5.googleusercontent.com/-7ukkIYiMcZ8/AAAAAAAAAAI/AAAAAAAAClM/hraBNLlBvk8/s64/photo.jpg",
      "userId": "18306667323412978430"
     },
     "user_tz": -60
    },
    "id": "Wa_ctLt90RTA"
   },
   "outputs": [],
   "source": [
    "print(stats)"
   ]
  }
 ],
 "metadata": {
  "accelerator": "GPU",
  "colab": {
   "collapsed_sections": [],
   "name": "test.ipynb",
   "provenance": [],
   "toc_visible": true
  },
  "kernelspec": {
   "display_name": "Python 3",
   "language": "python",
   "name": "python3"
  },
  "language_info": {
   "codemirror_mode": {
    "name": "ipython",
    "version": 3
   },
   "file_extension": ".py",
   "mimetype": "text/x-python",
   "name": "python",
   "nbconvert_exporter": "python",
   "pygments_lexer": "ipython3",
   "version": "3.9.1"
  }
 },
 "nbformat": 4,
 "nbformat_minor": 1
}
