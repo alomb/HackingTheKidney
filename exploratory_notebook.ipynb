{
 "cells": [
  {
   "cell_type": "code",
   "execution_count": 1,
   "metadata": {},
   "outputs": [],
   "source": [
    "%load_ext autoreload\n",
    "%autoreload 2\n",
    "\n",
    "%matplotlib inline"
   ]
  },
  {
   "cell_type": "code",
   "execution_count": 2,
   "metadata": {
    "colab": {
     "base_uri": "https://localhost:8080/"
    },
    "executionInfo": {
     "elapsed": 644,
     "status": "ok",
     "timestamp": 1608484465691,
     "user": {
      "displayName": "Alessandro Lombardi",
      "photoUrl": "https://lh5.googleusercontent.com/-7ukkIYiMcZ8/AAAAAAAAAAI/AAAAAAAAClM/hraBNLlBvk8/s64/photo.jpg",
      "userId": "18306667323412978430"
     },
     "user_tz": -60
    },
    "id": "Z7WHp5ruS_lF",
    "outputId": "740c4264-b3a8-4b58-a6cd-bb6d9e61fe5e"
   },
   "outputs": [],
   "source": [
    "import os\n",
    "\n",
    "USE_DRIVE = False\n",
    "if USE_DRIVE:\n",
    "    from google.colab import drive\n",
    "\n",
    "    drive.mount('/content/gdrive')\n",
    "    ROOT_DRIVE = '/content/gdrive/MyDrive/'\n",
    "    DRIVE_FOLDER_PATH = os.path.join(ROOT_DRIVE, 'HuBMAP')\n",
    "    IMAGES_PATH = os.path.join(DRIVE_FOLDER_PATH, 'hubmap-256x256', 'train')\n",
    "    MASKS_PATH = os.path.join(DRIVE_FOLDER_PATH, 'hubmap-256x256', 'masks')\n",
    "else:\n",
    "    IMAGES_PATH = os.path.join('data', '256x256', 'train')\n",
    "    MASKS_PATH = os.path.join('data', '256x256', 'masks')"
   ]
  },
  {
   "cell_type": "markdown",
   "metadata": {},
   "source": [
    "# Data analysis and exploration"
   ]
  },
  {
   "cell_type": "markdown",
   "metadata": {},
   "source": [
    "## Images"
   ]
  },
  {
   "cell_type": "code",
   "execution_count": 3,
   "metadata": {},
   "outputs": [
    {
     "data": {
      "text/html": [
       "<div class=\"zoom\"><img style='width: 256px; height: 256px; margin: 1px; float: left; border: 0px solid black;'title=[] src='data/256x256/train/cb2d976f4_972.png'/></div><div class=\"zoom\"><img style='width: 256px; height: 256px; margin: 1px; float: left; border: 0px solid black;'title=[] src='data/256x256/train/54f2eec69_406.png'/></div><div class=\"zoom\"><img style='width: 256px; height: 256px; margin: 1px; float: left; border: 0px solid black;'title=[] src='data/256x256/train/54f2eec69_166.png'/></div><div class=\"zoom\"><img style='width: 256px; height: 256px; margin: 1px; float: left; border: 0px solid black;'title=[] src='data/256x256/train/cb2d976f4_873.png'/></div><div class=\"zoom\"><img style='width: 256px; height: 256px; margin: 1px; float: left; border: 0px solid black;'title=[] src='data/256x256/train/2f6ecfcdf_438.png'/></div><div class=\"zoom\"><img style='width: 256px; height: 256px; margin: 1px; float: left; border: 0px solid black;'title=[] src='data/256x256/train/cb2d976f4_1217.png'/></div><div class=\"zoom\"><img style='width: 256px; height: 256px; margin: 1px; float: left; border: 0px solid black;'title=[] src='data/256x256/train/1e2425f28_263.png'/></div><div class=\"zoom\"><img style='width: 256px; height: 256px; margin: 1px; float: left; border: 0px solid black;'title=[] src='data/256x256/train/0486052bb_499.png'/></div><div class=\"zoom\"><img style='width: 256px; height: 256px; margin: 1px; float: left; border: 0px solid black;'title=[] src='data/256x256/train/0486052bb_304.png'/></div><div class=\"zoom\"><img style='width: 256px; height: 256px; margin: 1px; float: left; border: 0px solid black;'title=[] src='data/256x256/train/cb2d976f4_414.png'/></div><div class=\"zoom\"><img style='width: 256px; height: 256px; margin: 1px; float: left; border: 0px solid black;'title=[] src='data/256x256/train/cb2d976f4_1271.png'/></div><div class=\"zoom\"><img style='width: 256px; height: 256px; margin: 1px; float: left; border: 0px solid black;'title=[] src='data/256x256/train/cb2d976f4_1172.png'/></div><div class=\"zoom\"><img style='width: 256px; height: 256px; margin: 1px; float: left; border: 0px solid black;'title=[] src='data/256x256/train/1e2425f28_483.png'/></div><div class=\"zoom\"><img style='width: 256px; height: 256px; margin: 1px; float: left; border: 0px solid black;'title=[] src='data/256x256/train/54f2eec69_293.png'/></div><div class=\"zoom\"><img style='width: 256px; height: 256px; margin: 1px; float: left; border: 0px solid black;'title=[] src='data/256x256/train/1e2425f28_520.png'/></div><div class=\"zoom\"><img style='width: 256px; height: 256px; margin: 1px; float: left; border: 0px solid black;'title=[] src='data/256x256/train/cb2d976f4_885.png'/></div><div class=\"zoom\"><img style='width: 256px; height: 256px; margin: 1px; float: left; border: 0px solid black;'title=[] src='data/256x256/train/54f2eec69_376.png'/></div><div class=\"zoom\"><img style='width: 256px; height: 256px; margin: 1px; float: left; border: 0px solid black;'title=[] src='data/256x256/train/54f2eec69_274.png'/></div><div class=\"zoom\"><img style='width: 256px; height: 256px; margin: 1px; float: left; border: 0px solid black;'title=[] src='data/256x256/train/cb2d976f4_1232.png'/></div><div class=\"zoom\"><img style='width: 256px; height: 256px; margin: 1px; float: left; border: 0px solid black;'title=[] src='data/256x256/train/1e2425f28_441.png'/></div><div class=\"zoom\"><img style='width: 256px; height: 256px; margin: 1px; float: left; border: 0px solid black;'title=[] src='data/256x256/train/1e2425f28_659.png'/></div><div class=\"zoom\"><img style='width: 256px; height: 256px; margin: 1px; float: left; border: 0px solid black;'title=[] src='data/256x256/train/cb2d976f4_599.png'/></div><div class=\"zoom\"><img style='width: 256px; height: 256px; margin: 1px; float: left; border: 0px solid black;'title=[] src='data/256x256/train/cb2d976f4_504.png'/></div><div class=\"zoom\"><img style='width: 256px; height: 256px; margin: 1px; float: left; border: 0px solid black;'title=[] src='data/256x256/train/1e2425f28_662.png'/></div><div class=\"zoom\"><img style='width: 256px; height: 256px; margin: 1px; float: left; border: 0px solid black;'title=[] src='data/256x256/train/e79de561c_229.png'/></div><div class=\"zoom\"><img style='width: 256px; height: 256px; margin: 1px; float: left; border: 0px solid black;'title=[] src='data/256x256/train/54f2eec69_323.png'/></div><div class=\"zoom\"><img style='width: 256px; height: 256px; margin: 1px; float: left; border: 0px solid black;'title=[] src='data/256x256/train/0486052bb_268.png'/></div><div class=\"zoom\"><img style='width: 256px; height: 256px; margin: 1px; float: left; border: 0px solid black;'title=[] src='data/256x256/train/0486052bb_395.png'/></div><div class=\"zoom\"><img style='width: 256px; height: 256px; margin: 1px; float: left; border: 0px solid black;'title=[] src='data/256x256/train/54f2eec69_52.png'/></div><div class=\"zoom\"><img style='width: 256px; height: 256px; margin: 1px; float: left; border: 0px solid black;'title=[] src='data/256x256/train/1e2425f28_344.png'/></div><div class=\"zoom\"><img style='width: 256px; height: 256px; margin: 1px; float: left; border: 0px solid black;'title=[] src='data/256x256/train/095bf7a1f_838.png'/></div><div class=\"zoom\"><img style='width: 256px; height: 256px; margin: 1px; float: left; border: 0px solid black;'title=[] src='data/256x256/train/cb2d976f4_956.png'/></div><div class=\"zoom\"><img style='width: 256px; height: 256px; margin: 1px; float: left; border: 0px solid black;'title=[] src='data/256x256/train/1e2425f28_379.png'/></div><div class=\"zoom\"><img style='width: 256px; height: 256px; margin: 1px; float: left; border: 0px solid black;'title=[] src='data/256x256/train/0486052bb_116.png'/></div><div class=\"zoom\"><img style='width: 256px; height: 256px; margin: 1px; float: left; border: 0px solid black;'title=[] src='data/256x256/train/1e2425f28_209.png'/></div><div class=\"zoom\"><img style='width: 256px; height: 256px; margin: 1px; float: left; border: 0px solid black;'title=[] src='data/256x256/train/e79de561c_162.png'/></div><div class=\"zoom\"><img style='width: 256px; height: 256px; margin: 1px; float: left; border: 0px solid black;'title=[] src='data/256x256/train/1e2425f28_644.png'/></div><div class=\"zoom\"><img style='width: 256px; height: 256px; margin: 1px; float: left; border: 0px solid black;'title=[] src='data/256x256/train/095bf7a1f_720.png'/></div><div class=\"zoom\"><img style='width: 256px; height: 256px; margin: 1px; float: left; border: 0px solid black;'title=[] src='data/256x256/train/1e2425f28_369.png'/></div><div class=\"zoom\"><img style='width: 256px; height: 256px; margin: 1px; float: left; border: 0px solid black;'title=[] src='data/256x256/train/095bf7a1f_1191.png'/></div><div class=\"zoom\"><img style='width: 256px; height: 256px; margin: 1px; float: left; border: 0px solid black;'title=[] src='data/256x256/train/aaa6a05cc_149.png'/></div><div class=\"zoom\"><img style='width: 256px; height: 256px; margin: 1px; float: left; border: 0px solid black;'title=[] src='data/256x256/train/e79de561c_75.png'/></div><div class=\"zoom\"><img style='width: 256px; height: 256px; margin: 1px; float: left; border: 0px solid black;'title=[] src='data/256x256/train/cb2d976f4_1280.png'/></div><div class=\"zoom\"><img style='width: 256px; height: 256px; margin: 1px; float: left; border: 0px solid black;'title=[] src='data/256x256/train/1e2425f28_356.png'/></div><div class=\"zoom\"><img style='width: 256px; height: 256px; margin: 1px; float: left; border: 0px solid black;'title=[] src='data/256x256/train/1e2425f28_122.png'/></div><div class=\"zoom\"><img style='width: 256px; height: 256px; margin: 1px; float: left; border: 0px solid black;'title=[] src='data/256x256/train/0486052bb_94.png'/></div><div class=\"zoom\"><img style='width: 256px; height: 256px; margin: 1px; float: left; border: 0px solid black;'title=[] src='data/256x256/train/0486052bb_780.png'/></div><div class=\"zoom\"><img style='width: 256px; height: 256px; margin: 1px; float: left; border: 0px solid black;'title=[] src='data/256x256/train/2f6ecfcdf_579.png'/></div><div class=\"zoom\"><img style='width: 256px; height: 256px; margin: 1px; float: left; border: 0px solid black;'title=[] src='data/256x256/train/54f2eec69_267.png'/></div><div class=\"zoom\"><img style='width: 256px; height: 256px; margin: 1px; float: left; border: 0px solid black;'title=[] src='data/256x256/train/cb2d976f4_667.png'/></div><div class=\"zoom\"><img style='width: 256px; height: 256px; margin: 1px; float: left; border: 0px solid black;'title=[] src='data/256x256/train/095bf7a1f_926.png'/></div>"
      ],
      "text/plain": [
       "<IPython.core.display.HTML object>"
      ]
     },
     "metadata": {},
     "output_type": "display_data"
    }
   ],
   "source": [
    "from easyimages import EasyImageList\n",
    "\n",
    "image_list = EasyImageList.from_folder(IMAGES_PATH)\n",
    "image_list.html(sample=51, size=256)"
   ]
  },
  {
   "cell_type": "code",
   "execution_count": 4,
   "metadata": {},
   "outputs": [],
   "source": [
    "# TODO: Consideration on the complete images"
   ]
  },
  {
   "cell_type": "markdown",
   "metadata": {},
   "source": [
    "## Mask"
   ]
  },
  {
   "cell_type": "code",
   "execution_count": 5,
   "metadata": {},
   "outputs": [
    {
     "name": "stdout",
     "output_type": "stream",
     "text": [
      "Average number of glomeruli per image: 0.7290533188248096\n",
      "Average glomerulis' width: 60.70186567164179\n",
      "Average glomerulis' height: 60.588432835820896\n",
      "Average glomerulis' area: 3122.658582089552\n"
     ]
    }
   ],
   "source": [
    "import cv2\n",
    "import numpy as np\n",
    "\n",
    "num_glomeruli_per_image = []\n",
    "glomeruli_widths = []\n",
    "glomeruli_heights = []\n",
    "glomeruli_areas = []\n",
    "\n",
    "for filename in os.listdir(MASKS_PATH):\n",
    "    mask = cv2.imread(os.path.join(MASKS_PATH, filename), 0)\n",
    "    # output is (num_labels, labelled image, stats, centroids)\n",
    "    # stats is [[leftmost x coord, topmost y coord, width, height, area] for each label]\n",
    "    output = cv2.connectedComponentsWithStats(mask, 8, cv2.CV_32S)\n",
    "    # Update number of glomeruli found\n",
    "    num_glomeruli_per_image.append(output[0] - 1)   \n",
    "    for stat in output[2]:\n",
    "        if stat[2] == stat[3] == 256:\n",
    "            continue\n",
    "        glomeruli_widths.append(stat[2])\n",
    "        glomeruli_heights.append(stat[3])\n",
    "        glomeruli_areas.append(stat[4])\n",
    "\n",
    "print(f'Average number of glomeruli per image: {np.mean(num_glomeruli_per_image)}')\n",
    "print(f'Average glomerulis\\' width: {np.mean(glomeruli_widths)}')\n",
    "print(f'Average glomerulis\\' height: {np.mean(glomeruli_heights)}')\n",
    "print(f'Average glomerulis\\' area: {np.mean(glomeruli_areas)}')"
   ]
  },
  {
   "cell_type": "markdown",
   "metadata": {
    "id": "Ecs2e-CoS8j1"
   },
   "source": [
    "# Baseline and model overfitting"
   ]
  },
  {
   "cell_type": "code",
   "execution_count": 6,
   "metadata": {
    "colab": {
     "base_uri": "https://localhost:8080/"
    },
    "executionInfo": {
     "elapsed": 975,
     "status": "ok",
     "timestamp": 1608484520715,
     "user": {
      "displayName": "Alessandro Lombardi",
      "photoUrl": "https://lh5.googleusercontent.com/-7ukkIYiMcZ8/AAAAAAAAAAI/AAAAAAAAClM/hraBNLlBvk8/s64/photo.jpg",
      "userId": "18306667323412978430"
     },
     "user_tz": -60
    },
    "id": "h9fijBxlS8j6",
    "outputId": "27610f3c-1668-42e2-c53b-8b59cbeb05d1"
   },
   "outputs": [],
   "source": [
    "from utils import get_device_colab, set_deterministic_colab\n",
    "\n",
    "NOT_COLAB = True\n",
    "if not NOT_COLAB:\n",
    "\n",
    "    DEVICE = get_device_colab()\n",
    "else:\n",
    "    DEVICE = 'cpu'\n",
    "\n",
    "SEED = 42\n",
    "set_deterministic_colab(SEED)"
   ]
  },
  {
   "cell_type": "code",
   "execution_count": 7,
   "metadata": {
    "colab": {
     "base_uri": "https://localhost:8080/",
     "height": 423
    },
    "executionInfo": {
     "elapsed": 6688,
     "status": "error",
     "timestamp": 1608486204400,
     "user": {
      "displayName": "Alessandro Lombardi",
      "photoUrl": "https://lh5.googleusercontent.com/-7ukkIYiMcZ8/AAAAAAAAAAI/AAAAAAAAClM/hraBNLlBvk8/s64/photo.jpg",
      "userId": "18306667323412978430"
     },
     "user_tz": -60
    },
    "id": "7LBfcpJMyLnp",
    "outputId": "ed032e30-f8b0-4249-fe18-125ba7ec4387"
   },
   "outputs": [
    {
     "name": "stderr",
     "output_type": "stream",
     "text": [
      "/home/alessandro/University/ML4CV/HackingTheKidney/visualization/visualize_data.py:86: UserWarning: Matplotlib is currently using agg, which is a non-GUI backend, so cannot show the figure.\n",
      "  plt.show()\n"
     ]
    }
   ],
   "source": [
    "import itertools\n",
    "\n",
    "from preprocessing.dataset import get_training_validation_sets, denormalize_images, HuBMAPDataset\n",
    "from preprocessing.augmentation import get_augmentations\n",
    "from training.loop import Trainer\n",
    "from training.loss_functions import BinaryDiceLoss\n",
    "from visualization.visualize_data import visualize\n",
    "\n",
    "import torch\n",
    "from torchvision import transforms\n",
    "\n",
    "# From https://pytorch.org/docs/stable/torchvision/models.html\n",
    "mean = [0.485, 0.456, 0.406]\n",
    "std = [0.229, 0.224, 0.225]\n",
    "\n",
    "training_dataset, training_images, validation_dataset, validation_images = get_training_validation_sets(IMAGES_PATH,\n",
    "                                                                                                        MASKS_PATH,\n",
    "                                                                                                        0.3, \n",
    "                                                                                                        {'train': None,\n",
    "                                                                                                         'val': None},\n",
    "                                                                                                        mean,\n",
    "                                                                                                        std)\n",
    "\n",
    "# for image, mask in itertools.islice(training_dataset, 0, 1):\n",
    "    # visualize(image=denormalize_images(image, mean, std), mask=mask)"
   ]
  },
  {
   "cell_type": "code",
   "execution_count": null,
   "metadata": {},
   "outputs": [],
   "source": []
  },
  {
   "cell_type": "markdown",
   "metadata": {},
   "source": [
    "# "
   ]
  },
  {
   "cell_type": "code",
   "execution_count": null,
   "metadata": {},
   "outputs": [],
   "source": []
  }
 ],
 "metadata": {
  "accelerator": "GPU",
  "colab": {
   "collapsed_sections": [],
   "name": "test.ipynb",
   "provenance": [],
   "toc_visible": true
  },
  "kernelspec": {
   "display_name": "Python 3",
   "language": "python",
   "name": "python3"
  },
  "language_info": {
   "codemirror_mode": {
    "name": "ipython",
    "version": 3
   },
   "file_extension": ".py",
   "mimetype": "text/x-python",
   "name": "python",
   "nbconvert_exporter": "python",
   "pygments_lexer": "ipython3",
   "version": "3.9.1"
  }
 },
 "nbformat": 4,
 "nbformat_minor": 1
}
